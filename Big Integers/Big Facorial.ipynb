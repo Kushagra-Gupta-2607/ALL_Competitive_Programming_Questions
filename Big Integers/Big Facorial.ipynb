n = int(input())

ans = 1
for i in rang(n+1);
  ans = ans*i

print(ans)

// No problem with Python as the answer can be done without any fuss unlike C++
